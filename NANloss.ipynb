{
 "cells": [
  {
   "cell_type": "code",
   "execution_count": 36,
   "metadata": {},
   "outputs": [],
   "source": [
    "import numpy as np\n",
    "import os\n",
    "import json\n",
    "import cv2\n",
    "data_set = ['train_good_and_bad_weather', 'train_good_weather', 'test']\n",
    "# labels_all: all object\n",
    "# labels_with_object: only with object\n",
    "# labels_temporal: all object, with temporal\n",
    "# labels_temporal_with_object: only with object, temporal"
   ]
  },
  {
   "attachments": {},
   "cell_type": "markdown",
   "metadata": {},
   "source": [
    "labels_all: 9760, 22371, 11307\n",
    "labels_with_object: 4702, 11914, 5470\n",
    "labels_temporal: 9724, 22278, 11253\n",
    "labels_temporal_with_object: 4273, 11089, 4905\n"
   ]
  },
  {
   "cell_type": "code",
   "execution_count": 82,
   "metadata": {},
   "outputs": [
    {
     "name": "stdout",
     "output_type": "stream",
     "text": [
      "9760\n",
      "22371\n",
      "11307\n"
     ]
    }
   ],
   "source": [
    "# labels_all\n",
    "for i in range(3):\n",
    "    data_set_number = i\n",
    "\n",
    "    root_path = '/workspace/dataset/radiate_centercrop/'+data_set[data_set_number]+'/labelTxt'\n",
    "    label_list = os.listdir(root_path)\n",
    "    label_list.sort()\n",
    "    labels_all = '/workspace/dataset/radiate_centercrop/'+data_set[data_set_number]+'/labels_all.txt'\n",
    "    with open(labels_all, 'w') as fo:\n",
    "        for label in label_list:\n",
    "            f_root = os.path.join(root_path, label)    \n",
    "            # with open(f_root, 'r') as f:\n",
    "                # s = f.readlines()\n",
    "                # if s:\n",
    "            fo.write(label[0:5]+'\\n')\n",
    "\n",
    "    with open(labels_all, 'r') as f:\n",
    "        s = f.readlines()\n",
    "        print(len(s))\n",
    "\n"
   ]
  },
  {
   "cell_type": "code",
   "execution_count": 83,
   "metadata": {},
   "outputs": [
    {
     "name": "stdout",
     "output_type": "stream",
     "text": [
      "4702\n",
      "11914\n",
      "5470\n"
     ]
    }
   ],
   "source": [
    "# labels_with_object\n",
    "for i in range(3):\n",
    "    data_set_number = i\n",
    "\n",
    "    root_path = '/workspace/dataset/radiate_centercrop/'+data_set[data_set_number]+'/labelTxt'\n",
    "    label_list = os.listdir(root_path)\n",
    "    label_list.sort()\n",
    "    labels_with_object = '/workspace/dataset/radiate_centercrop/'+data_set[data_set_number]+'/labels_with_object.txt'\n",
    "    with open(labels_with_object, 'w') as fo:\n",
    "        for label in label_list:\n",
    "            f_root = os.path.join(root_path, label)    \n",
    "            with open(f_root, 'r') as f:\n",
    "                s = f.readlines()\n",
    "                if s:\n",
    "                    fo.write(label[0:5]+'\\n')\n",
    "\n",
    "    with open(labels_with_object, 'r') as f:\n",
    "        s = f.readlines()\n",
    "        print(len(s))\n",
    "        # print(len(label_list))\n"
   ]
  },
  {
   "cell_type": "code",
   "execution_count": 84,
   "metadata": {},
   "outputs": [
    {
     "name": "stdout",
     "output_type": "stream",
     "text": [
      "9724\n",
      "22278\n",
      "11253\n"
     ]
    }
   ],
   "source": [
    "# labels_temporal\n",
    "for i in range(3):\n",
    "    data_set_number = i\n",
    "    label_path = '/workspace/dataset/radiate_centercrop/'+data_set[data_set_number]+'/labelTxt'\n",
    "    label_list = os.listdir(label_path)\n",
    "    label_list.sort()\n",
    "    except_nanloss = '/workspace/dataset/radiate_centercrop/'+data_set[data_set_number]+'/labels_all.txt'\n",
    "    # except_nanloss = '/workspace/dataset/radiate_centercrop/'+data_set[data_set_number]+'/labels.txt'\n",
    "    labels_temporal = '/workspace/dataset/radiate_centercrop/'+data_set[data_set_number]+'/labels_temporal.txt'\n",
    "    imfo_path = '/workspace/dataset/radiate_centercrop/'+data_set[data_set_number]+'/img_info'\n",
    "\n",
    "    with open(except_nanloss, 'r') as f:\n",
    "        objs = f.readlines()\n",
    "        # print(len(objs))\n",
    "        with open(labels_temporal, 'w') as fo:\n",
    "            for i, obj in enumerate(objs):\n",
    "                try:\n",
    "                    obj = int(obj[0:5])\n",
    "                    # print(obj-3)\n",
    "                    j_file_cur = os.path.join(imfo_path, str(obj).zfill(5)+'.json')\n",
    "                    j_file_pre = os.path.join(imfo_path, str(obj-3).zfill(5)+'.json')\n",
    "                    label_cur = os.path.join(label_path, str(obj).zfill(5)+'.txt')\n",
    "                    label_pre = os.path.join(label_path, str(obj-3).zfill(5)+'.txt')\n",
    "                    with open(label_cur, 'r') as f:\n",
    "                        sc = f.readlines()\n",
    "                    with open(label_pre, 'r') as f:\n",
    "                        sp = f.readlines()\n",
    "                        # print(sp)\n",
    "                    # label_cur = os.path.join(label_path, obj[0:5])\n",
    "                    with open(j_file_cur) as jcur:\n",
    "                        imfo_cur = json.load(jcur)\n",
    "                    with open(j_file_pre) as jnext:\n",
    "                        imfo_pre = json.load(jnext)\n",
    "                        \n",
    "                    if imfo_cur['folder_name'] == imfo_pre['folder_name']:\n",
    "                        fo.write(str(obj).zfill(5)+'\\n')\n",
    "                except:\n",
    "                    k=2\n",
    "                    # print(i)\n",
    "\n",
    "    with open(labels_temporal, 'r') as f:\n",
    "        s = f.readlines()\n",
    "        print(len(s))\n",
    "    # print(len(label_list))\n"
   ]
  },
  {
   "cell_type": "code",
   "execution_count": 85,
   "metadata": {},
   "outputs": [
    {
     "name": "stdout",
     "output_type": "stream",
     "text": [
      "4273\n",
      "11089\n",
      "4905\n"
     ]
    }
   ],
   "source": [
    "# labels_temporal_with_object\n",
    "for i in range(3):\n",
    "    data_set_number = i\n",
    "    label_path = '/workspace/dataset/radiate_centercrop/'+data_set[data_set_number]+'/labelTxt'\n",
    "    label_list = os.listdir(label_path)\n",
    "    label_list.sort()\n",
    "    except_nanloss = '/workspace/dataset/radiate_centercrop/'+data_set[data_set_number]+'/labels_with_object.txt'\n",
    "    # except_nanloss = '/workspace/dataset/radiate_centercrop/'+data_set[data_set_number]+'/labels.txt'\n",
    "    labels_temporal_with_object = '/workspace/dataset/radiate_centercrop/'+data_set[data_set_number]+'/labels_temporal_with_object.txt'\n",
    "    imfo_path = '/workspace/dataset/radiate_centercrop/'+data_set[data_set_number]+'/img_info'\n",
    "\n",
    "    with open(except_nanloss, 'r') as f:\n",
    "        objs = f.readlines()\n",
    "        # print(len(objs))\n",
    "        with open(labels_temporal_with_object, 'w') as fo:\n",
    "            for i, obj in enumerate(objs):\n",
    "                try:\n",
    "                    obj = int(obj[0:5])\n",
    "                    # print(obj-3)\n",
    "                    j_file_cur = os.path.join(imfo_path, str(obj).zfill(5)+'.json')\n",
    "                    j_file_pre = os.path.join(imfo_path, str(obj-3).zfill(5)+'.json')\n",
    "                    label_cur = os.path.join(label_path, str(obj).zfill(5)+'.txt')\n",
    "                    label_pre = os.path.join(label_path, str(obj-3).zfill(5)+'.txt')\n",
    "                    with open(label_cur, 'r') as f:\n",
    "                        sc = f.readlines()\n",
    "                    with open(label_pre, 'r') as f:\n",
    "                        sp = f.readlines()\n",
    "                        # print(sp)\n",
    "                    # label_cur = os.path.join(label_path, obj[0:5])\n",
    "                    with open(j_file_cur) as jcur:\n",
    "                        imfo_cur = json.load(jcur)\n",
    "                    with open(j_file_pre) as jnext:\n",
    "                        imfo_pre = json.load(jnext)\n",
    "                        \n",
    "                    if imfo_cur['folder_name'] == imfo_pre['folder_name'] and sc and sp:\n",
    "                        fo.write(str(obj).zfill(5)+'\\n')\n",
    "                except:\n",
    "                    k = 2\n",
    "\n",
    "    with open(labels_temporal_with_object, 'r') as f:\n",
    "        s = f.readlines()\n",
    "        print(len(s))\n",
    "        # print(len(label_list))\n"
   ]
  },
  {
   "cell_type": "code",
   "execution_count": 19,
   "metadata": {},
   "outputs": [
    {
     "name": "stdout",
     "output_type": "stream",
     "text": [
      "(256, 256, 2)\n"
     ]
    }
   ],
   "source": [
    "data_set_number = 2\n",
    "img_path = '/workspace/dataset/radiate_centercrop/'+data_set[data_set_number]+'/images'\n",
    "test_path = '/workspace/dataset/radiate_centercrop/'+data_set[data_set_number]+'/labels_temporal.txt'\n",
    "with open(test_path, 'r') as f:\n",
    "    x = f.readlines()\n",
    "    im_p = os.path.join(img_path, x[0][0:5]+'.png')\n",
    "    im_p2 = os.path.join(img_path, x[1][0:5]+'.png')\n",
    "    img = cv2.imread(im_p, cv2.IMREAD_GRAYSCALE)\n",
    "    img2 = cv2.imread(im_p2, cv2.IMREAD_GRAYSCALE)\n",
    "    img = np.stack((img, img2), axis=2)\n",
    "    print(img.shape)"
   ]
  },
  {
   "cell_type": "code",
   "execution_count": 25,
   "metadata": {},
   "outputs": [
    {
     "name": "stdout",
     "output_type": "stream",
     "text": [
      "1\n"
     ]
    }
   ],
   "source": [
    "from numpy import random\n",
    "print(random.randint(2))\n"
   ]
  },
  {
   "cell_type": "code",
   "execution_count": 35,
   "metadata": {},
   "outputs": [
    {
     "name": "stdout",
     "output_type": "stream",
     "text": [
      "9810\n"
     ]
    }
   ],
   "source": [
    "data_set_number = 2\n",
    "\n",
    "test_path = '/workspace/dataset/radiate_centercrop/'+data_set[data_set_number]+'/labels_temporal.txt'\n",
    "with open(test_path, 'r') as f:\n",
    "    x = f.readlines()\n",
    "    \n",
    "print(len(x))"
   ]
  },
  {
   "cell_type": "code",
   "execution_count": null,
   "metadata": {},
   "outputs": [],
   "source": []
  }
 ],
 "metadata": {
  "kernelspec": {
   "display_name": "base",
   "language": "python",
   "name": "python3"
  },
  "language_info": {
   "codemirror_mode": {
    "name": "ipython",
    "version": 3
   },
   "file_extension": ".py",
   "mimetype": "text/x-python",
   "name": "python",
   "nbconvert_exporter": "python",
   "pygments_lexer": "ipython3",
   "version": "3.7.16"
  },
  "orig_nbformat": 4,
  "vscode": {
   "interpreter": {
    "hash": "d4d1e4263499bec80672ea0156c357c1ee493ec2b1c70f0acce89fc37c4a6abe"
   }
  }
 },
 "nbformat": 4,
 "nbformat_minor": 2
}
